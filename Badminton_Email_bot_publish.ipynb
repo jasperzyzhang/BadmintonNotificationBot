{
  "nbformat": 4,
  "nbformat_minor": 0,
  "metadata": {
    "colab": {
      "name": "Badminton_Email_bot_publish.ipynb",
      "provenance": [],
      "collapsed_sections": [],
      "include_colab_link": true
    },
    "kernelspec": {
      "name": "python3",
      "display_name": "Python 3"
    }
  },
  "cells": [
    {
      "cell_type": "markdown",
      "metadata": {
        "id": "view-in-github",
        "colab_type": "text"
      },
      "source": [
        "<a href=\"https://colab.research.google.com/github/jasperzyzhang/BadmintonNotificationBot/blob/main/Badminton_Email_bot_publish.ipynb\" target=\"_parent\"><img src=\"https://colab.research.google.com/assets/colab-badge.svg\" alt=\"Open In Colab\"/></a>"
      ]
    },
    {
      "cell_type": "code",
      "source": [
        "import numpy as np\n",
        "import pandas as pd\n",
        "import smtplib\n",
        "#outlook account info\n",
        "from_email = #email account you want to login'jasperzhangbot@outlook.com'\n",
        "pass_word = #password as a string eg. 'password'\n",
        "#test = 3 #testing mode\n",
        "test = 2 #index to real contact info"
      ],
      "metadata": {
        "id": "wvMFX8a9_Dcf"
      },
      "execution_count": null,
      "outputs": []
    },
    {
      "cell_type": "code",
      "source": [
        "def send_message(to_email,subject,body):\n",
        "  msg = f'Subject: {subject}\\n\\n{body}'\n",
        "  try:\n",
        "      smtpObj = smtplib.SMTP('smtp-mail.outlook.com', 587)\n",
        "  except Exception as e:\n",
        "      print(e)\n",
        "      smtpObj = smtplib.SMTP_SSL('smtp-mail.outlook.com', 465)\n",
        "  smtpObj.ehlo()\n",
        "  smtpObj.starttls()\n",
        "  smtpObj.login(from_email,pass_word) \n",
        "  smtpObj.sendmail(from_email, to_email, msg) # Or recipient@outlook\n",
        "  smtpObj.quit()\n",
        "  pass"
      ],
      "metadata": {
        "id": "L_iKrEWlJlFO"
      },
      "execution_count": null,
      "outputs": []
    },
    {
      "cell_type": "code",
      "source": [
        "#send_message(\"send@outlook.com\",\"test\",\"testsender\")"
      ],
      "metadata": {
        "id": "h4HmoZVdYCWk"
      },
      "execution_count": null,
      "outputs": []
    },
    {
      "cell_type": "code",
      "source": [
        "from google.colab import auth\n",
        "auth.authenticate_user()\n",
        "import gspread\n",
        "from google.auth import default\n",
        "creds, _ = default()\n",
        "gc = gspread.authorize(creds)\n",
        "#read in worksheet\n",
        "worksheet = gc.open_by_url() # enter the url of the sheet object\n",
        "\n",
        "\n",
        "# get_all_values gives a list of rows.\n",
        "june = worksheet.get_worksheet(0).get_all_values()\n",
        "july = worksheet.get_worksheet(1).get_all_values()\n",
        "contact = worksheet.get_worksheet(test).get_all_values()\n",
        "# Convert to a DataFrame and render.\n",
        "df_june = pd.DataFrame.from_records(june)\n",
        "df_june = df_june.rename(columns=df_june.iloc[1]).drop([0,1]).reset_index()\n",
        "df_june.loc[pd.to_datetime(df_june['Date']).notnull()]\n",
        "#contact info\n",
        "df_contact = pd.DataFrame.from_records(contact)\n",
        "df_contact = df_contact.rename(columns=df_contact.iloc[0]).drop(df_contact.index[0]).reset_index()\n",
        "all_spots = ['Spot1','Spot2','Spot3','Spot4','Spot5','Spot6','Spot7','Spot8','Spot9','Spot10']"
      ],
      "metadata": {
        "id": "OKrFwUmPy2Cl"
      },
      "execution_count": null,
      "outputs": []
    },
    {
      "cell_type": "code",
      "source": [
        "def notify_badminton(date_to_notify):\n",
        "  row0 = df_june.loc[df_june['Date'] == date_to_notify]\n",
        "  attendee = np.array(row0[all_spots])\n",
        "  contact = np.array(df_contact['Preferred ShortCut'])\n",
        "  indices = np.where(np.in1d(contact, attendee))[0]\n",
        "  contact_to_notify = df_contact.loc[indices]\n",
        "  game_date = row0['Date'].to_string(index=False)\n",
        "  game_time = row0['Time'].to_string(index=False)\n",
        "  game_dofw = row0['DofW'].to_string(index=False)\n",
        "  game_timeinfo = game_date + \" \" + game_dofw + \" \" + game_time \n",
        "  game_address = row0['Address'].to_string(index=False)\n",
        "  game_organizer = row0['Organizer'].to_string(index=False)\n",
        "  game_emt = row0['Emt'].to_string(index=False)\n",
        "  for index, row in contact_to_notify.iterrows():\n",
        "      name = row['Name']\n",
        "      email_address = row['Email Address']\n",
        "      new_subject = \"Upcoming Badminton Game on \" + game_date\n",
        "      new_msg = \"Hello \" + name + \",\\n\" + game_organizer + \" invites you to join the badminton game on \" + game_timeinfo + \\\n",
        "      \",\\nthis game will be held at \" + game_address + \\\n",
        "      \" , please come on time with your equipments and send email transfer to \" + game_emt + \"\\n\\n\"\\\n",
        "        \"Have fun!\\n\\nBadminton Bot created by Jasper Zhang\" \n",
        "      send_message(email_address,new_subject,new_msg)\n",
        "      print('sent to ' + name)\n"
      ],
      "metadata": {
        "id": "iBp7FxRIurGj"
      },
      "execution_count": null,
      "outputs": []
    },
    {
      "cell_type": "code",
      "source": [
        "notify_badminton('2022-06-23')"
      ],
      "metadata": {
        "colab": {
          "base_uri": "https://localhost:8080/"
        },
        "id": "PR2g_PZuExV-",
        "outputId": "7264db4d-b051-412a-8598-37a9d1f99aa1"
      },
      "execution_count": null,
      "outputs": [
        {
          "output_type": "stream",
          "name": "stdout",
          "text": [
            "sent to Sichao Zhu\n",
            "sent to Harris Chen\n",
            "sent to Yue Zhang\n"
          ]
        }
      ]
    },
    {
      "cell_type": "code",
      "source": [
        ""
      ],
      "metadata": {
        "id": "FKyBboeKUKXA"
      },
      "execution_count": null,
      "outputs": []
    }
  ]
}